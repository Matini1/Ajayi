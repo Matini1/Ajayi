{
 "cells": [
  {
   "cell_type": "code",
   "execution_count": 1,
   "metadata": {},
   "outputs": [
    {
     "name": "stderr",
     "output_type": "stream",
     "text": [
      "[nltk_data] Downloading package stopwords to\n",
      "[nltk_data]     C:\\Users\\ajayi\\AppData\\Roaming\\nltk_data...\n",
      "[nltk_data]   Package stopwords is already up-to-date!\n",
      "[nltk_data] Downloading package punkt to\n",
      "[nltk_data]     C:\\Users\\ajayi\\AppData\\Roaming\\nltk_data...\n",
      "[nltk_data]   Package punkt is already up-to-date!\n",
      "[nltk_data] Downloading package wordnet to\n",
      "[nltk_data]     C:\\Users\\ajayi\\AppData\\Roaming\\nltk_data...\n",
      "[nltk_data]   Package wordnet is already up-to-date!\n"
     ]
    },
    {
     "data": {
      "text/plain": [
       "True"
      ]
     },
     "execution_count": 1,
     "metadata": {},
     "output_type": "execute_result"
    }
   ],
   "source": [
    "import nltk\n",
    "import random\n",
    "from sklearn.feature_extraction.text import TfidfVectorizer\n",
    "from sklearn.metrics.pairwise import cosine_similarity\n",
    "import pandas as pd\n",
    "import warnings\n",
    "warnings.filterwarnings('ignore')\n",
    "#import spacy\n",
    "lemmatizer = nltk.stem.WordNetLemmatizer()\n",
    "\n"
   ]
  },
  {
   "cell_type": "code",
   "execution_count": 2,
   "metadata": {},
   "outputs": [
    {
     "data": {
      "text/html": [
       "<div>\n",
       "<style scoped>\n",
       "    .dataframe tbody tr th:only-of-type {\n",
       "        vertical-align: middle;\n",
       "    }\n",
       "\n",
       "    .dataframe tbody tr th {\n",
       "        vertical-align: top;\n",
       "    }\n",
       "\n",
       "    .dataframe thead th {\n",
       "        text-align: right;\n",
       "    }\n",
       "</style>\n",
       "<table border=\"1\" class=\"dataframe\">\n",
       "  <thead>\n",
       "    <tr style=\"text-align: right;\">\n",
       "      <th></th>\n",
       "      <th>Question_ID</th>\n",
       "      <th>Questions</th>\n",
       "      <th>Answers</th>\n",
       "    </tr>\n",
       "  </thead>\n",
       "  <tbody>\n",
       "    <tr>\n",
       "      <th>0</th>\n",
       "      <td>1590140</td>\n",
       "      <td>What does it mean to have a mental illness?</td>\n",
       "      <td>Mental illnesses are health conditions that di...</td>\n",
       "    </tr>\n",
       "    <tr>\n",
       "      <th>1</th>\n",
       "      <td>2110618</td>\n",
       "      <td>Who does mental illness affect?</td>\n",
       "      <td>It is estimated that mental illness affects 1 ...</td>\n",
       "    </tr>\n",
       "    <tr>\n",
       "      <th>2</th>\n",
       "      <td>6361820</td>\n",
       "      <td>What causes mental illness?</td>\n",
       "      <td>It is estimated that mental illness affects 1 ...</td>\n",
       "    </tr>\n",
       "    <tr>\n",
       "      <th>3</th>\n",
       "      <td>9434130</td>\n",
       "      <td>What are some of the warning signs of mental i...</td>\n",
       "      <td>Symptoms of mental health disorders vary depen...</td>\n",
       "    </tr>\n",
       "    <tr>\n",
       "      <th>4</th>\n",
       "      <td>7657263</td>\n",
       "      <td>Can people with mental illness recover?</td>\n",
       "      <td>When healing from mental illness, early identi...</td>\n",
       "    </tr>\n",
       "    <tr>\n",
       "      <th>5</th>\n",
       "      <td>1619387</td>\n",
       "      <td>What should I do if I know someone who appears...</td>\n",
       "      <td>Although this website cannot substitute for pr...</td>\n",
       "    </tr>\n",
       "    <tr>\n",
       "      <th>6</th>\n",
       "      <td>1030153</td>\n",
       "      <td>How can I find a mental health professional fo...</td>\n",
       "      <td>Feeling comfortable with the professional you ...</td>\n",
       "    </tr>\n",
       "    <tr>\n",
       "      <th>7</th>\n",
       "      <td>8022026</td>\n",
       "      <td>What treatment options are available?</td>\n",
       "      <td>Just as there are different types of medicatio...</td>\n",
       "    </tr>\n",
       "    <tr>\n",
       "      <th>8</th>\n",
       "      <td>1155199</td>\n",
       "      <td>If I become involved in treatment, what do I n...</td>\n",
       "      <td>Since beginning treatment is a big step for in...</td>\n",
       "    </tr>\n",
       "    <tr>\n",
       "      <th>9</th>\n",
       "      <td>7760466</td>\n",
       "      <td>What is the difference between mental health p...</td>\n",
       "      <td>There are many types of mental health professi...</td>\n",
       "    </tr>\n",
       "  </tbody>\n",
       "</table>\n",
       "</div>"
      ],
      "text/plain": [
       "   Question_ID                                          Questions  \\\n",
       "0      1590140        What does it mean to have a mental illness?   \n",
       "1      2110618                    Who does mental illness affect?   \n",
       "2      6361820                        What causes mental illness?   \n",
       "3      9434130  What are some of the warning signs of mental i...   \n",
       "4      7657263            Can people with mental illness recover?   \n",
       "5      1619387  What should I do if I know someone who appears...   \n",
       "6      1030153  How can I find a mental health professional fo...   \n",
       "7      8022026              What treatment options are available?   \n",
       "8      1155199  If I become involved in treatment, what do I n...   \n",
       "9      7760466  What is the difference between mental health p...   \n",
       "\n",
       "                                             Answers  \n",
       "0  Mental illnesses are health conditions that di...  \n",
       "1  It is estimated that mental illness affects 1 ...  \n",
       "2  It is estimated that mental illness affects 1 ...  \n",
       "3  Symptoms of mental health disorders vary depen...  \n",
       "4  When healing from mental illness, early identi...  \n",
       "5  Although this website cannot substitute for pr...  \n",
       "6  Feeling comfortable with the professional you ...  \n",
       "7  Just as there are different types of medicatio...  \n",
       "8  Since beginning treatment is a big step for in...  \n",
       "9  There are many types of mental health professi...  "
      ]
     },
     "execution_count": 2,
     "metadata": {},
     "output_type": "execute_result"
    }
   ],
   "source": [
    "df = pd.read_csv('Mental_Health_FAQ.csv')\n",
    "df.head(10)"
   ]
  },
  {
   "cell_type": "code",
   "execution_count": 3,
   "metadata": {},
   "outputs": [],
   "source": [
    "sent = 'I bought some phones two years back when it rained last years eve'\n",
    "tokenized = nltk.word_tokenize(sent)"
   ]
  },
  {
   "cell_type": "code",
   "execution_count": 4,
   "metadata": {},
   "outputs": [
    {
     "data": {
      "text/plain": [
       "['i',\n",
       " 'bought',\n",
       " 'some',\n",
       " 'phone',\n",
       " 'two',\n",
       " 'year',\n",
       " 'back',\n",
       " 'when',\n",
       " 'it',\n",
       " 'rained',\n",
       " 'last',\n",
       " 'year',\n",
       " 'eve']"
      ]
     },
     "execution_count": 4,
     "metadata": {},
     "output_type": "execute_result"
    }
   ],
   "source": [
    "[lemmatizer.lemmatize(word.lower()) for word in tokenized]"
   ]
  },
  {
   "cell_type": "code",
   "execution_count": 5,
   "metadata": {},
   "outputs": [
    {
     "data": {
      "text/html": [
       "<div>\n",
       "<style scoped>\n",
       "    .dataframe tbody tr th:only-of-type {\n",
       "        vertical-align: middle;\n",
       "    }\n",
       "\n",
       "    .dataframe tbody tr th {\n",
       "        vertical-align: top;\n",
       "    }\n",
       "\n",
       "    .dataframe thead th {\n",
       "        text-align: right;\n",
       "    }\n",
       "</style>\n",
       "<table border=\"1\" class=\"dataframe\">\n",
       "  <thead>\n",
       "    <tr style=\"text-align: right;\">\n",
       "      <th></th>\n",
       "      <th>Question_ID</th>\n",
       "      <th>Questions</th>\n",
       "      <th>Answers</th>\n",
       "      <th>tokenized Questions</th>\n",
       "    </tr>\n",
       "  </thead>\n",
       "  <tbody>\n",
       "    <tr>\n",
       "      <th>0</th>\n",
       "      <td>1590140</td>\n",
       "      <td>What does it mean to have a mental illness?</td>\n",
       "      <td>Mental illnesses are health conditions that di...</td>\n",
       "      <td>what doe it mean to have a mental illness</td>\n",
       "    </tr>\n",
       "    <tr>\n",
       "      <th>1</th>\n",
       "      <td>2110618</td>\n",
       "      <td>Who does mental illness affect?</td>\n",
       "      <td>It is estimated that mental illness affects 1 ...</td>\n",
       "      <td>who doe mental illness affect</td>\n",
       "    </tr>\n",
       "    <tr>\n",
       "      <th>2</th>\n",
       "      <td>6361820</td>\n",
       "      <td>What causes mental illness?</td>\n",
       "      <td>It is estimated that mental illness affects 1 ...</td>\n",
       "      <td>what cause mental illness</td>\n",
       "    </tr>\n",
       "    <tr>\n",
       "      <th>3</th>\n",
       "      <td>9434130</td>\n",
       "      <td>What are some of the warning signs of mental i...</td>\n",
       "      <td>Symptoms of mental health disorders vary depen...</td>\n",
       "      <td>what are some of the warning sign of mental il...</td>\n",
       "    </tr>\n",
       "    <tr>\n",
       "      <th>4</th>\n",
       "      <td>7657263</td>\n",
       "      <td>Can people with mental illness recover?</td>\n",
       "      <td>When healing from mental illness, early identi...</td>\n",
       "      <td>can people with mental illness recover</td>\n",
       "    </tr>\n",
       "  </tbody>\n",
       "</table>\n",
       "</div>"
      ],
      "text/plain": [
       "   Question_ID                                          Questions  \\\n",
       "0      1590140        What does it mean to have a mental illness?   \n",
       "1      2110618                    Who does mental illness affect?   \n",
       "2      6361820                        What causes mental illness?   \n",
       "3      9434130  What are some of the warning signs of mental i...   \n",
       "4      7657263            Can people with mental illness recover?   \n",
       "\n",
       "                                             Answers  \\\n",
       "0  Mental illnesses are health conditions that di...   \n",
       "1  It is estimated that mental illness affects 1 ...   \n",
       "2  It is estimated that mental illness affects 1 ...   \n",
       "3  Symptoms of mental health disorders vary depen...   \n",
       "4  When healing from mental illness, early identi...   \n",
       "\n",
       "                                 tokenized Questions  \n",
       "0          what doe it mean to have a mental illness  \n",
       "1                      who doe mental illness affect  \n",
       "2                          what cause mental illness  \n",
       "3  what are some of the warning sign of mental il...  \n",
       "4             can people with mental illness recover  "
      ]
     },
     "execution_count": 5,
     "metadata": {},
     "output_type": "execute_result"
    }
   ],
   "source": [
    "\n",
    "# Define a function for text preprocessing (including lemmatization)\n",
    "def preprocess_text(text):\n",
    "    # Identifies all sentences in the data\n",
    "    sentences = nltk.sent_tokenize(text)\n",
    "\n",
    "    # Tokenize and lemmatize each word in each sentence\n",
    "    preprocessed_sentences = []\n",
    "    for sentence in sentences:\n",
    "        tokens = [lemmatizer.lemmatize(word.lower()) for word in nltk.word_tokenize(sentence) if word.isalnum()]\n",
    "        # Turns to basic root - each word in the tokenized word found in the tokenized sentence - if they are all alphanumeric\n",
    "        # The code above does the following:\n",
    "        # Identifies every word in the sentence\n",
    "        # Turns it to a lower case\n",
    "        # Lemmatizes it if the word is alphanumeric\n",
    "\n",
    "        preprocessed_sentence = ' '.join(tokens)\n",
    "        preprocessed_sentences.append(preprocessed_sentence)\n",
    "\n",
    "    return ' '.join(preprocessed_sentences)\n",
    "\n",
    "\n",
    "df['tokenized Questions'] = df['Questions'].apply(preprocess_text)\n",
    "df.head()"
   ]
  },
  {
   "cell_type": "code",
   "execution_count": 6,
   "metadata": {},
   "outputs": [
    {
     "data": {
      "text/plain": [
       "['what doe it mean to have a mental illness',\n",
       " 'who doe mental illness affect',\n",
       " 'what cause mental illness',\n",
       " 'what are some of the warning sign of mental illness',\n",
       " 'can people with mental illness recover',\n",
       " 'what should i do if i know someone who appears to have the symptom of a mental disorder',\n",
       " 'how can i find a mental health professional for myself or my child',\n",
       " 'what treatment option are available',\n",
       " 'if i become involved in treatment what do i need to know',\n",
       " 'what is the difference between mental health professional',\n",
       " 'how can i find a mental health professional right for my child or myself',\n",
       " 'if i become involved in treatment what do i need to know',\n",
       " 'where else can i get help',\n",
       " 'what should i know before starting a new medication',\n",
       " 'if i feel better after taking medication doe this mean i am cured and can stop taking it',\n",
       " 'how can i get help paying for my medication',\n",
       " 'where can i go to find therapy',\n",
       " 'where can i learn about type of mental health treatment',\n",
       " 'what are the different type of mental health professional',\n",
       " 'where can i go to find a support group',\n",
       " 'where can i go to find inpatient care',\n",
       " 'where can i go to find other local service',\n",
       " 'where can i learn more information about clinical trial',\n",
       " 'where can i learn more information about creating a psychiatric advance directive',\n",
       " 'what is mental health',\n",
       " 'what do i do if the support doesn t help',\n",
       " 'can you prevent mental health problem',\n",
       " 'are there cure for mental health problem',\n",
       " 'what cause mental health problem',\n",
       " 'what do i do if i m worried about my mental health',\n",
       " 'how do i know if i m unwell',\n",
       " 'what should i do if i m worried about a friend or relative',\n",
       " 'how do i deal with someone telling me what to do',\n",
       " 'why do i need to keep informed',\n",
       " 'how can i tell if health information is good or bad',\n",
       " 'why do i need a plan',\n",
       " 'how can i maintain social connection what if i feel lonely',\n",
       " 'how can i take care of my physical health',\n",
       " 'how can i use distraction to manage difficult thought or feeling',\n",
       " 'how can i reframe the situation and find more balanced perspective',\n",
       " 'how can i challenge thinking trap',\n",
       " 'how can i manage grief',\n",
       " 'how can i find a doctor psychiatrist psychologist or counsellor',\n",
       " 'how can i see a psychiatrist',\n",
       " 'how can i see a psychologist',\n",
       " 'how can i see a counsellor',\n",
       " 'how can i find a support group',\n",
       " 'where can i find child and youth mental health service',\n",
       " 'where can older adult find help for mental health concern',\n",
       " 'where can i find material for depression',\n",
       " 'where can i find material for anxiety',\n",
       " 'i m having a hard time coping with a physical health problem where can i find help',\n",
       " 'when is substance use a problem where can i go for help',\n",
       " 'where can i find free or counselling',\n",
       " 'can i get help paying for prescription medication',\n",
       " 'how can i pay for mental health care',\n",
       " 'how do i apply for income assistance',\n",
       " 'what is msp',\n",
       " 'what is a referral',\n",
       " 'what the difference between a psychiatrist and a registered psychologist',\n",
       " 'what the difference between psychotherapy and counselling',\n",
       " 'what the difference between cbt and dbt',\n",
       " 'what the difference between antidepressant',\n",
       " 'i received a diagnosis but i don t think it s right what can i do',\n",
       " 'i wa prescribed an antidepressant or other psychiatric medication but i don t think it s working what can i do',\n",
       " 'an adult in my life seems ill and won t find help what can i do',\n",
       " 'i m worried about my child or teenager where can i find help',\n",
       " 'someone i care about ha a brain injury where can i find more information',\n",
       " 'someone i love ha been diagnosed with depression how can i help',\n",
       " 'someone i love ha been diagnosed with schizophrenia how can i help',\n",
       " 'i m a young person and one of my parent ha a mental illness what can i do',\n",
       " 'i have thought of suicide or someone i care about is talking about suicide what should i do',\n",
       " 'cannabis is legally allowed to but there are doctor group saying it s potentially harmful to age 25 any use or certain use what s myth and what s fact if i m a parent what should i tell my young adult',\n",
       " 'what the difference between mental health and mental illness',\n",
       " 'where can i find more information about depression',\n",
       " 'what s the difference between anxiety and an anxiety disorder',\n",
       " 'what the difference between anxiety and stress',\n",
       " 'what the difference between sadness and depression',\n",
       " 'what is dysthymia or persistent depressive disorder',\n",
       " 'what is cyclothymic disorder',\n",
       " 'what doe rapid cycling mean',\n",
       " 'where can i find information and help for borderline personality disorder',\n",
       " 'what is schizoid personality disorder',\n",
       " 'what is antisocial personality disorder',\n",
       " 'what is personality disorder',\n",
       " 'what is disorder',\n",
       " 'what s the difference between dissociative identity disorder multiple personality disorder and schizophrenia',\n",
       " 'what the difference between psychosis and schizophrenia',\n",
       " 'what are positive and negative symptom',\n",
       " 'what is a prodrome',\n",
       " 'i m an adult and i think i might have adhd what can i do next',\n",
       " 'what s the difference between substance use and addiction',\n",
       " 'how can i find help for an alcohol or drug use problem',\n",
       " 'how do i know if i drinking too much',\n",
       " 'if cannabis is dangerous why are we legalizing it',\n",
       " 'how can i convince my kid not to use drug',\n",
       " 'what is the legal status and evidence of cbd oil',\n",
       " 'what is the evidence on vaping']"
      ]
     },
     "execution_count": 6,
     "metadata": {},
     "output_type": "execute_result"
    }
   ],
   "source": [
    "corpus = df['tokenized Questions'].to_list()\n",
    "corpus"
   ]
  },
  {
   "cell_type": "code",
   "execution_count": 7,
   "metadata": {},
   "outputs": [
    {
     "name": "stdout",
     "output_type": "stream",
     "text": [
      "  (0, 101)\t0.36441743462193266\n",
      "  (0, 128)\t0.2595599997967565\n",
      "  (0, 93)\t0.4131356340148716\n",
      "  (0, 216)\t0.3064104920291124\n",
      "  (0, 126)\t0.4362655661041626\n",
      "  (0, 110)\t0.3782586235113424\n",
      "  (0, 70)\t0.4131356340148716\n",
      "  (0, 228)\t0.1765554179540623\n",
      "  (1, 6)\t0.5523407361335997\n",
      "  (1, 231)\t0.5066540480622876\n",
      "  (1, 101)\t0.39613691788888045\n",
      "  (1, 128)\t0.2821525222397721\n",
      "  (1, 70)\t0.44909562820041293\n",
      "  (2, 36)\t0.6958986765070116\n",
      "  (2, 101)\t0.5441013605412818\n",
      "  (2, 128)\t0.3875416915165623\n",
      "  (2, 228)\t0.2636098989594234\n",
      "  (3, 189)\t0.3888505175982014\n",
      "  (3, 226)\t0.3888505175982014\n",
      "  (3, 208)\t0.20619723379229024\n",
      "  (3, 142)\t0.5390782138680418\n",
      "  (3, 192)\t0.3888505175982014\n",
      "  (3, 20)\t0.27888228313399066\n",
      "  (3, 101)\t0.27888228313399066\n",
      "  (3, 128)\t0.19863672392259624\n",
      "  :\t:\n",
      "  (95, 141)\t0.42484474614924805\n",
      "  (95, 112)\t0.42484474614924805\n",
      "  (95, 45)\t0.42484474614924805\n",
      "  (95, 74)\t0.38970384828260646\n",
      "  (95, 223)\t0.3162701372700484\n",
      "  (95, 134)\t0.27709743719530117\n",
      "  (95, 97)\t0.20594459776752813\n",
      "  (95, 33)\t0.14762176669959692\n",
      "  (95, 216)\t0.25619637557879654\n",
      "  (96, 143)\t0.3988227064171985\n",
      "  (96, 37)\t0.3988227064171985\n",
      "  (96, 77)\t0.3658342132790937\n",
      "  (96, 195)\t0.3988227064171985\n",
      "  (96, 115)\t0.3988227064171985\n",
      "  (96, 13)\t0.20751567411060107\n",
      "  (96, 109)\t0.21565842775283073\n",
      "  (96, 208)\t0.21148522405145798\n",
      "  (96, 142)\t0.276451518636729\n",
      "  (96, 228)\t0.13857982958447307\n",
      "  (97, 224)\t0.531814333992344\n",
      "  (97, 145)\t0.531814333992344\n",
      "  (97, 77)\t0.4878254807365814\n",
      "  (97, 109)\t0.2875719994869928\n",
      "  (97, 208)\t0.28200719710400535\n",
      "  (97, 228)\t0.18479073179485586\n"
     ]
    }
   ],
   "source": [
    "# Vectorize corpus\n",
    "tfidf_vectorizer = TfidfVectorizer()\n",
    "\n",
    "vectorised_corpus = tfidf_vectorizer.fit_transform(corpus)\n",
    "# TDIDF is a numerical statistic used to evaluate how important a word is to a document in a collection or corpus.\n",
    "# The TfidfVectorizer calculates the Tfidf values for each word in the corpus and uses them to create a matrix where each row represents a document and each column represents a word.\n",
    "# The cell values in the matrix correspond to the importance of each word in each document.\n",
    "print(vectorised_corpus)"
   ]
  },
  {
   "cell_type": "code",
   "execution_count": 10,
   "metadata": {},
   "outputs": [],
   "source": [
    "user_input = input('Pls ask your mental health related question: ')\n"
   ]
  },
  {
   "cell_type": "code",
   "execution_count": 11,
   "metadata": {},
   "outputs": [
    {
     "data": {
      "text/plain": [
       "'what cause mental illness'"
      ]
     },
     "execution_count": 11,
     "metadata": {},
     "output_type": "execute_result"
    }
   ],
   "source": [
    "pre_input = preprocess_text(user_input)\n",
    "pre_input"
   ]
  },
  {
   "cell_type": "code",
   "execution_count": 12,
   "metadata": {},
   "outputs": [
    {
     "name": "stdout",
     "output_type": "stream",
     "text": [
      "  (0, 228)\t0.2636098989594234\n",
      "  (0, 128)\t0.3875416915165623\n",
      "  (0, 101)\t0.5441013605412818\n",
      "  (0, 36)\t0.6958986765070116\n"
     ]
    }
   ],
   "source": [
    "trans_input = tfidf_vectorizer.transform([pre_input])\n",
    "print(trans_input)"
   ]
  },
  {
   "cell_type": "code",
   "execution_count": 13,
   "metadata": {},
   "outputs": [
    {
     "data": {
      "text/plain": [
       "array([[0.3454121 , 0.3248845 , 1.        , 0.26433783, 0.31449144,\n",
       "        0.10474217, 0.09333992, 0.0504516 , 0.0392834 , 0.17671403,\n",
       "        0.08567089, 0.0392834 , 0.        , 0.04146869, 0.        ,\n",
       "        0.        , 0.        , 0.09731188, 0.1370412 , 0.        ,\n",
       "        0.        , 0.        , 0.        , 0.        , 0.29272485,\n",
       "        0.0455938 , 0.10997689, 0.10103813, 0.6431174 , 0.14790075,\n",
       "        0.        , 0.04125004, 0.03725448, 0.        , 0.        ,\n",
       "        0.        , 0.03842815, 0.        , 0.        , 0.        ,\n",
       "        0.        , 0.        , 0.        , 0.        , 0.        ,\n",
       "        0.        , 0.        , 0.09896538, 0.09213635, 0.        ,\n",
       "        0.        , 0.        , 0.        , 0.        , 0.        ,\n",
       "        0.1165171 , 0.        , 0.07705311, 0.07705311, 0.04631514,\n",
       "        0.05058916, 0.04940822, 0.06464678, 0.03665274, 0.02827324,\n",
       "        0.03268224, 0.        , 0.        , 0.        , 0.        ,\n",
       "        0.26012063, 0.02687654, 0.05355395, 0.48322837, 0.        ,\n",
       "        0.03936957, 0.05141301, 0.05204061, 0.04468316, 0.06755309,\n",
       "        0.04882821, 0.        , 0.05863261, 0.05863261, 0.07631673,\n",
       "        0.10002757, 0.03349637, 0.05141301, 0.04731788, 0.07705311,\n",
       "        0.03602174, 0.04678876, 0.        , 0.        , 0.        ,\n",
       "        0.        , 0.03653101, 0.04871267]])"
      ]
     },
     "execution_count": 13,
     "metadata": {},
     "output_type": "execute_result"
    }
   ],
   "source": [
    "# find the similarity between vectorized user question and vectorized corpus\n",
    "sim_score = cosine_similarity(trans_input, vectorised_corpus)\n",
    "sim_score"
   ]
  },
  {
   "cell_type": "code",
   "execution_count": 14,
   "metadata": {},
   "outputs": [
    {
     "data": {
      "text/plain": [
       "2"
      ]
     },
     "execution_count": 14,
     "metadata": {},
     "output_type": "execute_result"
    }
   ],
   "source": [
    "import numpy as np\n",
    "np.argmax(sim_score)"
   ]
  },
  {
   "cell_type": "code",
   "execution_count": 15,
   "metadata": {},
   "outputs": [
    {
     "data": {
      "text/plain": [
       "'When healing from mental illness, early identification and treatment are of vital importance. Based on the nature of the illness, there are a range of effective treatments available. For any type of treatment, it is essential that the person affected is proactive and fully engaged in their own recovery process.\\nMany people with mental illnesses who are diagnosed and treated respond well, although some might experience a return of symptoms. Even in such cases, with careful monitoring and management of the disorder, it is still quite possible to live a fulfilled and productive life.'"
      ]
     },
     "execution_count": 15,
     "metadata": {},
     "output_type": "execute_result"
    }
   ],
   "source": [
    "df['Answers'].iloc[4]"
   ]
  },
  {
   "cell_type": "code",
   "execution_count": 16,
   "metadata": {},
   "outputs": [
    {
     "name": "stdout",
     "output_type": "stream",
     "text": [
      "\n",
      "Chatbot: It is estimated that mental illness affects 1 in 5 adults in America, and that 1 in 24 adults have a serious mental illness. Mental illness does not discriminate; it can affect anyone, regardless of gender, age, income, social status, ethnicity, religion, sexual orientation, or background. Although mental illness can affect anyone, certain conditions may be more common in different populations. For instance, eating disorders tend to occur more often in females, while disorders such as attention deficit/hyperactivity disorder is more prevalent in children. Additionally, all ages are susceptible, but the young and the old are especially vulnerable. Mental illnesses usually strike individuals in the prime of their lives, with 75 percent of mental health conditions developing by the age of 24. This makes identification and treatment of mental disorders particularly difficult, because the normal personality and behavioral changes of adolescence may mask symptoms of a mental health condition. Parents and caretakers should be aware of this fact, and take notice of changes in their child’s mood, personality, personal habits, and social withdrawal. When these occur in children under 18, they are referred to as serious emotional disturbances (SEDs).\n",
      "\n",
      "Chatbot: Mental illnesses are health conditions that disrupt a personâ€™s thoughts, emotions, relationships, and daily functioning. They are associated with distress and diminished capacity to engage in the ordinary activities of daily life.\n",
      "Mental illnesses fall along a continuum of severity: some are fairly mild and only interfere with some aspects of life, such as certain phobias. On the other end of the spectrum lie serious mental illnesses, which result in major functional impairment and interference with daily life. These include such disorders as major depression, schizophrenia, and bipolar disorder, and may require that the person receives care in a hospital.\n",
      "It is important to know that mental illnesses are medical conditions that have nothing to do with a personâ€™s character, intelligence, or willpower. Just as diabetes is a disorder of the pancreas, mental illness is a medical condition due to the brainâ€™s biology.\n",
      "Similarly to how one would treat diabetes with medication and insulin, mental illness is treatable with a combination of medication and social support. These treatments are highly effective, with 70-90 percent of individuals receiving treatment experiencing a reduction in symptoms and an improved quality of life. With the proper treatment, it is very possible for a person with mental illness to be independent and successful.\n",
      "\n",
      "Chatbot: Hi Student.... How can I be of use!\n",
      "\n",
      "Chatbot: It is estimated that mental illness affects 1 in 5 adults in America, and that 1 in 24 adults have a serious mental illness. Mental illness does not discriminate; it can affect anyone, regardless of gender, age, income, social status, ethnicity, religion, sexual orientation, or background. Although mental illness can affect anyone, certain conditions may be more common in different populations. For instance, eating disorders tend to occur more often in females, while disorders such as attention deficit/hyperactivity disorder is more prevalent in children. Additionally, all ages are susceptible, but the young and the old are especially vulnerable. Mental illnesses usually strike individuals in the prime of their lives, with 75 percent of mental health conditions developing by the age of 24. This makes identification and treatment of mental disorders particularly difficult, because the normal personality and behavioral changes of adolescence may mask symptoms of a mental health condition. Parents and caretakers should be aware of this fact, and take notice of changes in their child’s mood, personality, personal habits, and social withdrawal. When these occur in children under 18, they are referred to as serious emotional disturbances (SEDs).\n",
      "\n",
      "Chatbot: We can all suffer from mental health challenges, but developing our wellbeing, resilience, and seeking help early can help prevent challenges becoming serious.\n",
      "\n",
      "Chatbot: We can all suffer from mental health challenges, but developing our wellbeing, resilience, and seeking help early can help prevent challenges becoming serious.\n",
      "\n",
      "Chatbot: Bye... See you later!\n"
     ]
    }
   ],
   "source": [
    "def get_response(user_input):\n",
    "    user_input_processed = preprocess_text(user_input) # ....................... Preprocess the user's input using the preprocess_text function\n",
    "\n",
    "    user_input_vector = tfidf_vectorizer.transform([user_input_processed])# .... Vectorize the preprocessed user input using the TF-IDF vectorizer\n",
    "\n",
    "    similarity_scores = cosine_similarity(user_input_vector, vectorised_corpus) # .. Calculate the score of similarity between the user input vector and the corpus (df) vector\n",
    "\n",
    "    most_similar_index = similarity_scores.argmax() # ..... Find the index of the most similar question in the corpus (df) based on cosine similarity\n",
    "\n",
    "    return df['Answers'].iloc[most_similar_index] # ... Retrieve the corresponding answer from the df DataFrame and return it as the chatbot's response\n",
    "\n",
    "\n",
    "# create greeting list\n",
    "greetings = [\"Hey There.... I am a creation of Ehiz Danny Agba Coder.... How can I help\",\n",
    "            \"Hi Human.... How can I help\",\n",
    "            'Twale baba nla, wetin dey happen nah',\n",
    "            'How far Alaye, wetin happen'\n",
    "            \"Good Day .... How can I help\",\n",
    "            \"Hello There... How can I be useful to you today\",\n",
    "            \"Hi Student.... How can I be of use\"]\n",
    "\n",
    "exits = ['thanks bye', 'bye', 'quit', 'exit', 'bye bye', 'close']\n",
    "farewell = ['Thanks....see you soon', 'Babye, See you soon', 'Bye... See you later', 'Bye... come back soon']\n",
    "\n",
    "random_farewell = random.choice(farewell) # ---------------- Randomly select a farewell message from the list\n",
    "random_greetings = random.choice(greetings) # -------- Randomly select greeting message from the list\n",
    "\n",
    "# Test your chatbot\n",
    "while True:\n",
    "    user_input = input(\"You: \")\n",
    "    if user_input.lower() in exits:\n",
    "        print(f\"\\nChatbot: {random_farewell}!\")\n",
    "        break\n",
    "    if user_input.lower() in ['hi', 'hello', 'hey', 'hi there']:\n",
    "        print(f\"\\nChatbot: {random_greetings}!\")\n",
    "    else:\n",
    "        response = get_response(user_input)\n",
    "        print(f\"\\nChatbot: {response}\")"
   ]
  },
  {
   "cell_type": "code",
   "execution_count": null,
   "metadata": {},
   "outputs": [],
   "source": []
  },
  {
   "cell_type": "code",
   "execution_count": null,
   "metadata": {},
   "outputs": [],
   "source": []
  },
  {
   "cell_type": "code",
   "execution_count": null,
   "metadata": {},
   "outputs": [],
   "source": []
  }
 ],
 "metadata": {
  "kernelspec": {
   "display_name": "Python 3",
   "language": "python",
   "name": "python3"
  },
  "language_info": {
   "codemirror_mode": {
    "name": "ipython",
    "version": 3
   },
   "file_extension": ".py",
   "mimetype": "text/x-python",
   "name": "python",
   "nbconvert_exporter": "python",
   "pygments_lexer": "ipython3",
   "version": "3.10.9"
  }
 },
 "nbformat": 4,
 "nbformat_minor": 2
}
